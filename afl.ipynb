{
 "cells": [
  {
   "cell_type": "code",
   "execution_count": 36,
   "metadata": {},
   "outputs": [
    {
     "name": "stdout",
     "output_type": "stream",
     "text": [
      "Fixture Data Preview:\n",
      "                                           Home Team Away Team        Venue\n",
      "0  Sydney  3.3   4.3  7.10 12.14  86Thu 07-Mar-20...        86    Melbourne\n",
      "1  Carlton  3.3   6.9  9.11 12.14  86Thu 14-Mar-2...        86     Richmond\n",
      "2  St Kilda  5.1   6.2  11.7 14.10  94Thu 21-Mar-...        94  Collingwood\n",
      "3  Brisbane Lions  1.3   5.8  6.10 10.12  72Thu 2...        72  Collingwood\n",
      "4  Adelaide  2.5   3.8   6.9  8.15  63Thu 04-Apr-...        63    Melbourne\n",
      "AFL Fixtures saved to afl_fixtures.csv\n"
     ]
    }
   ],
   "source": [
    "import requests\n",
    "from bs4 import BeautifulSoup\n",
    "import pandas as pd\n",
    "\n",
    "# AFL Tables Fixture URL (Update for different seasons)\n",
    "AFL_FIXTURE_URL = \"https://afltables.com/afl/seas/2024.html\"\n",
    "\n",
    "# Function to scrape AFL Fixtures from AFL Tables\n",
    "def scrape_afl_fixtures():\n",
    "    headers = {\"User-Agent\": \"Mozilla/5.0\"}  # Headers to avoid blocking\n",
    "    response = requests.get(AFL_FIXTURE_URL, headers=headers)\n",
    "    \n",
    "    if response.status_code != 200:\n",
    "        print(\"Failed to retrieve AFL Fixtures.\")\n",
    "        return None\n",
    "    \n",
    "    soup = BeautifulSoup(response.text, 'html.parser')\n",
    "    \n",
    "    matches = []\n",
    "    \n",
    "    # Locate the section for fixtures\n",
    "    rounds = soup.find_all(\"table\")  # Identify all tables\n",
    "    \n",
    "    for round_table in rounds:\n",
    "        rows = round_table.find_all(\"tr\")\n",
    "        \n",
    "        for row in rows:\n",
    "            columns = row.find_all(\"td\")\n",
    "            if len(columns) >= 6:  # Ensuring row contains match details\n",
    "                try:\n",
    "                    team_1 = columns[0].text.strip()\n",
    "                    team_2 = columns[3].text.strip()\n",
    "                    venue = columns[5].text.strip()\n",
    "                    \n",
    "                    matches.append({\n",
    "                        \"Home Team\": team_1,\n",
    "                        \"Away Team\": team_2,\n",
    "                        \"Venue\": venue\n",
    "                    })\n",
    "                except IndexError:\n",
    "                    continue\n",
    "    \n",
    "    df = pd.DataFrame(matches)\n",
    "    \n",
    "    if df.empty:\n",
    "        print(\"No fixture data found. Check website structure.\")\n",
    "    else:\n",
    "        print(\"Fixture Data Preview:\")\n",
    "        print(df.head())\n",
    "    \n",
    "    df.to_csv(\"afl_fixtures.csv\", index=False)\n",
    "    print(\"AFL Fixtures saved to afl_fixtures.csv\")\n",
    "    \n",
    "    return df\n",
    "\n",
    "# Run the scraper\n",
    "if __name__ == \"__main__\":\n",
    "    scrape_afl_fixtures()\n",
    "\n",
    "\n",
    "\n",
    "\n",
    "\n",
    "\n",
    "\n",
    "\n",
    "\n"
   ]
  }
 ],
 "metadata": {
  "kernelspec": {
   "display_name": "base",
   "language": "python",
   "name": "python3"
  },
  "language_info": {
   "codemirror_mode": {
    "name": "ipython",
    "version": 3
   },
   "file_extension": ".py",
   "mimetype": "text/x-python",
   "name": "python",
   "nbconvert_exporter": "python",
   "pygments_lexer": "ipython3",
   "version": "3.12.7"
  }
 },
 "nbformat": 4,
 "nbformat_minor": 2
}
